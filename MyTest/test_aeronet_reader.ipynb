{
 "cells": [
  {
   "cell_type": "code",
   "execution_count": 55,
   "id": "152a8343",
   "metadata": {},
   "outputs": [
    {
     "name": "stdout",
     "output_type": "stream",
     "text": [
      "The autoreload extension is already loaded. To reload it, use:\n",
      "  %reload_ext autoreload\n"
     ]
    }
   ],
   "source": [
    "%load_ext autoreload\n",
    "%autoreload 2\n",
    "import os\n",
    "import numpy as np\n",
    "import matplotlib.pyplot as plt\n",
    "import sys\n",
    "import csv\n",
    "\n",
    "from pathlib import Path\n",
    "current_path = Path().absolute()\n",
    "parent_path = os.path.dirname(current_path)\n",
    "if parent_path not in sys.path:\n",
    "    sys.path.append(parent_path)\n",
    "from aeronetlib import *"
   ]
  },
  {
   "cell_type": "code",
   "execution_count": 56,
   "id": "406566ec",
   "metadata": {},
   "outputs": [
    {
     "name": "stdout",
     "output_type": "stream",
     "text": [
      "440-870_Angstrom_Exponent [0.438927]\n",
      "380-500_Angstrom_Exponent [0.604746]\n",
      "440-675_Angstrom_Exponent [0.509401]\n",
      "500-870_Angstrom_Exponent [0.423214]\n",
      "340-440_Angstrom_Exponent [0.586538]\n",
      "440-675_Angstrom_Exponent[Polar] [-999.]\n",
      "[0.3408 0.3811 0.4394 0.5005 0.6745 0.8708 1.0213 1.6422] [0.411284 0.394106 0.354959 0.334407 0.285784 0.26497  0.247857 0.193558]\n"
     ]
    }
   ],
   "source": [
    "file = r'D:\\AERONET\\data\\20210101_20211231_Toulon.lev20'\n",
    "\n",
    "\n",
    "def angstrom_func(x1,y1,a,x):\n",
    "    return y1*(x/x1)**(-a)\n",
    "\n",
    "\n",
    "ant = Aeronet(file)    \n",
    "# print(aods.ds.keys())\n",
    "\n",
    "ds1 = ant.extract_from_datetime(2021,8,15,11,26,52)\n",
    "keynames = ds1.keys()\n",
    "for key in keynames:\n",
    "    if 'Angstrom' in key:\n",
    "        print(key,ds1[key])\n",
    "\n",
    "wls,aods = ant.extract_from_datetime_effective_aods(2021,8,15,11,26,52)  \n",
    "print(wls,aods)\n",
    "\n",
    "\n",
    "# plt.figure()\n",
    "# plt.plot(wls,vals,'o')\n",
    "# for i in range(len(wls)):\n",
    "#     plt.plot(wls,angstrom_func(wls[i],vals[i],ang,wls),'--',label=str(wls[i]))\n",
    "\n",
    "# plt.plot(wls,A1*wls**(-a1),'r',label='llsq')\n",
    "# plt.plot(wls,angstrom_func(550,aod550,a1,wls),'b',label='angstrom law')\n",
    "# plt.legend()\n",
    "# plt.show()"
   ]
  },
  {
   "cell_type": "code",
   "execution_count": 39,
   "id": "e020d7be",
   "metadata": {},
   "outputs": [
    {
     "ename": "SyntaxError",
     "evalue": "invalid syntax (1936397130.py, line 1)",
     "output_type": "error",
     "traceback": [
      "\u001b[1;36m  Cell \u001b[1;32mIn[39], line 1\u001b[1;36m\u001b[0m\n\u001b[1;33m    def calculate_angstrom([wl1,wl2],(aod1,aod2)):\u001b[0m\n\u001b[1;37m                           ^\u001b[0m\n\u001b[1;31mSyntaxError\u001b[0m\u001b[1;31m:\u001b[0m invalid syntax\n"
     ]
    }
   ],
   "source": [
    "def calculate_angstrom([wl1,wl2],(aod1,aod2)):\n",
    "    # calculate the angstrom coef alpha from two aods \n",
    "    # aod1 = aod2*(wl1/wl1)**(-alpha)\n",
    "    return -1*(np.log(aod1/aod2))/(np.log(wl1/wl2))"
   ]
  },
  {
   "cell_type": "code",
   "execution_count": 71,
   "id": "b3a6c81b",
   "metadata": {},
   "outputs": [
    {
     "name": "stdout",
     "output_type": "stream",
     "text": [
      "sr 0.46973726210605676 0.3729156818149202 0.4938237419729408\n",
      "polyfit 0.46973726210605615 0.24519024605582143 0.3246867072290211\n",
      "curve_fit 0.47635302582362926 0.24430927312519124 0.3248022058726882\n",
      "linregress 0.4697372621060567 0.24519024605582132 0.32468670722902104\n",
      "440-675nm 0.5057990537753718 0.31685564640901437\n"
     ]
    }
   ],
   "source": [
    "from aeronetlib import *\n",
    "from scipy.stats import linregress\n",
    "\n",
    "ant = Aeronet(file)\n",
    "# ds2 = ant.extract_from_datetime(2021,8,15,11,26,52)\n",
    "wls,vals = ant.extract_from_datetime_effective_aods(2021,8,15,11,26,52) \n",
    "\n",
    "wl550 = 550\n",
    "if np.min(wls)<1:\n",
    "    wl550 = 0.55\n",
    "wl440 = 440\n",
    "wl675 = 675\n",
    "if np.min(wls)<1:\n",
    "    wl440 = 0.44\n",
    "    wl675 = 0.675\n",
    "\n",
    "difs440 = np.abs(wls-wl440)\n",
    "difs675 = np.abs(wls-wl675)\n",
    "ind440 = np.where(difs440==np.min(difs440))[0][0]\n",
    "ind675 = np.where(difs675==np.min(difs675))[0][0]\n",
    "\n",
    "aods_log = np.log(aods)\n",
    "wls_log = np.log(wls)\n",
    "\n",
    "cov = np.cov(wls_log,aods_log)\n",
    "sxy = cov[0,1]\n",
    "sxx = cov[0,0]\n",
    "alpha = -sxy/sxx\n",
    "beta = np.exp(np.mean(aods_log)-alpha*np.mean(wls_log))\n",
    "aod550 = beta*wl550**(-alpha)\n",
    "print('sr',alpha,beta,aod550)\n",
    "\n",
    "p = np.polyfit(wls_log,aods_log,1)\n",
    "alpha = -p[0]\n",
    "beta = np.exp(p[1])\n",
    "aod550 = beta*wl550**(-alpha)\n",
    "print('polyfit',alpha,beta,aod550)\n",
    "\n",
    "initial_guess = [1.0,np.exp(np.mean(aods_log))]\n",
    "params,covariance = curve_fit(angstrom_formula_2,wls,aods,p0=initial_guess)\n",
    "alpha,beta = params\n",
    "aod550 = beta*wl550**(-alpha)\n",
    "print('curve_fit',alpha,beta,aod550)    \n",
    "\n",
    "slope,intercept,r_value,p_value,std_err = linregress(wls_log,aods_log)\n",
    "\n",
    "alpha = -slope\n",
    "beta = np.exp(intercept)\n",
    "aod550 = beta*wl550**(-alpha)\n",
    "print('linregress',alpha,beta,aod550)\n",
    "\n",
    "alpha = calculate_angstrom(wls[[ind440,ind675]],aods[[ind440,ind675]])\n",
    "aod550 = aods[ind440]*(wl550/wls[ind440])**(-alpha)\n",
    "print('440-675nm',alpha,aod550)\n",
    "# alpha,beta = fit_llsq(wls,vals)\n",
    "# print(alpha,beta)\n",
    "\n",
    "\n",
    "# print('llsq',calculate_aod550(wls,vals,method='llsq'))\n",
    "# print('440-675nm',calculate_aod550(wls,vals,method='440-675nm'))"
   ]
  },
  {
   "cell_type": "code",
   "execution_count": null,
   "id": "8c49e6ef",
   "metadata": {},
   "outputs": [],
   "source": []
  }
 ],
 "metadata": {
  "kernelspec": {
   "display_name": "Python 3 (ipykernel)",
   "language": "python",
   "name": "python3"
  },
  "language_info": {
   "codemirror_mode": {
    "name": "ipython",
    "version": 3
   },
   "file_extension": ".py",
   "mimetype": "text/x-python",
   "name": "python",
   "nbconvert_exporter": "python",
   "pygments_lexer": "ipython3",
   "version": "3.10.11"
  }
 },
 "nbformat": 4,
 "nbformat_minor": 5
}
